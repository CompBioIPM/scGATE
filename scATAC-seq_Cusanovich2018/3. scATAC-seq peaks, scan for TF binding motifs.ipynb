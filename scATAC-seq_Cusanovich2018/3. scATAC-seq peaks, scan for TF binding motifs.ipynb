{
 "cells": [
  {
   "cell_type": "markdown",
   "id": "a96de85d-57ce-46d4-a8fc-0b69d3cf04cc",
   "metadata": {},
   "source": [
    "#### This section relies on the CellOracle package for scanning scATAC-seq peak calls (TSS annotated) for TF binding site motifs. For further information, please refer to the CellOracle documentation available at https://morris-lab.github.io/CellOracle.documentation/index.html."
   ]
  },
  {
   "cell_type": "markdown",
   "id": "8ab6c267-0f5c-420d-a33f-17d56a5ea90b",
   "metadata": {},
   "source": [
    "### Import library"
   ]
  },
  {
   "cell_type": "code",
   "execution_count": 3,
   "id": "de692cf8-2fc4-455e-b079-56ee939b2d18",
   "metadata": {},
   "outputs": [
    {
     "data": {
      "text/plain": [
       "'0.14.0'"
      ]
     },
     "execution_count": 3,
     "metadata": {},
     "output_type": "execute_result"
    }
   ],
   "source": [
    "import pandas as pd\n",
    "import numpy as np\n",
    "import matplotlib.pyplot as plt\n",
    "import seaborn as sns\n",
    "import os, sys, shutil, importlib, glob\n",
    "from tqdm.notebook import tqdm\n",
    "import celloracle as co\n",
    "from celloracle import motif_analysis as ma\n",
    "from celloracle.utility import save_as_pickled_object\n",
    "co.__version__"
   ]
  },
  {
   "cell_type": "code",
   "execution_count": 4,
   "id": "5e5a9c6d-78c1-4ddd-af6e-6a59e76b954a",
   "metadata": {},
   "outputs": [],
   "source": [
    "# config InlineBackend.figure_format = 'retina'\n",
    "# matplotlib inline\n",
    "\n",
    "plt.rcParams['figure.figsize'] = (15,7)\n",
    "plt.rcParams[\"savefig.dpi\"] = 600"
   ]
  },
  {
   "cell_type": "markdown",
   "id": "af2c34a2-e774-4782-92eb-ab9e7f00ddf1",
   "metadata": {},
   "source": [
    "### Load reference genome and data"
   ]
  },
  {
   "cell_type": "code",
   "execution_count": 6,
   "id": "2ef592cc-b295-4580-827d-9c734e79bc1b",
   "metadata": {},
   "outputs": [
    {
     "name": "stdout",
     "output_type": "stream",
     "text": [
      "genome mm9 is not installed in this environment.\n",
      "Please install genome using genomepy.\n",
      "e.g.\n",
      "    >>> import genomepy\n",
      "    >>> genomepy.install_genome(name=\"mm9\", provider=\"UCSC\")\n",
      "mm9 installation:  False\n",
      "               species            ref_genome           provider\n",
      "0                Human                  hg38               UCSC\n",
      "1                Human                  hg19               UCSC\n",
      "2                Mouse                  mm39               UCSC\n",
      "3                Mouse                  mm10               UCSC\n",
      "4                Mouse                   mm9               UCSC\n",
      "5         S.cerevisiae               sacCer2               UCSC\n",
      "6         S.cerevisiae               sacCer3               UCSC\n",
      "7            Zebrafish               danRer7               UCSC\n",
      "8            Zebrafish              danRer10               UCSC\n",
      "9            Zebrafish              danRer11               UCSC\n",
      "10  Xenopus tropicalis               xenTro2               UCSC\n",
      "11  Xenopus tropicalis               xenTro3               UCSC\n",
      "12      Xenopus laevis  Xenopus_laevis_v10.1               NCBI\n",
      "13                 Rat                   rn4               UCSC\n",
      "14                 Rat                   rn5               UCSC\n",
      "15                 Rat                   rn6               UCSC\n",
      "16          Drosophila                   dm3               UCSC\n",
      "17          Drosophila                   dm6               UCSC\n",
      "18           C.elegans                   ce6               UCSC\n",
      "19           C.elegans                  ce10               UCSC\n",
      "20         Arabidopsis                TAIR10            Ensembl\n",
      "21             Chicken               galGal4               UCSC\n",
      "22             Chicken               galGal5               UCSC\n",
      "23             Chicken               galGal6               UCSC\n",
      "24          Guinea_Pig             Cavpor3.0            Ensembl\n",
      "25                 Pig           Sscrofa11.1            Ensembl\n",
      "26             Axolotl         AmexG_v6.0-DD  Axolotl-omics.org\n"
     ]
    },
    {
     "name": "stderr",
     "output_type": "stream",
     "text": [
      "\u001b[32m13:38:46\u001b[0m \u001b[1m|\u001b[0m \u001b[34mINFO\u001b[0m \u001b[1m|\u001b[0m Downloading assembly summaries from UCSC\n",
      "\u001b[32m13:39:01\u001b[0m \u001b[1m|\u001b[0m \u001b[34mINFO\u001b[0m \u001b[1m|\u001b[0m Downloading genome from UCSC. Target URL: https://hgdownload.soe.ucsc.edu/goldenPath/mm9/bigZips/chromFa.tar.gz...\n"
     ]
    },
    {
     "data": {
      "application/vnd.jupyter.widget-view+json": {
       "model_id": "56ea226a568d4a20bae09a724c1ac7d4",
       "version_major": 2,
       "version_minor": 0
      },
      "text/plain": [
       "Download:   0%|          | 0.00/820M [00:00<?, ?B/s]"
      ]
     },
     "metadata": {},
     "output_type": "display_data"
    },
    {
     "name": "stderr",
     "output_type": "stream",
     "text": [
      "\u001b[32m13:48:28\u001b[0m \u001b[1m|\u001b[0m \u001b[34mINFO\u001b[0m \u001b[1m|\u001b[0m Genome download successful, starting post processing...\n",
      "\u001b[32m13:49:21\u001b[0m \u001b[1m|\u001b[0m \u001b[34mINFO\u001b[0m \u001b[1m|\u001b[0m name: mm9\n",
      "\u001b[32m13:49:21\u001b[0m \u001b[1m|\u001b[0m \u001b[34mINFO\u001b[0m \u001b[1m|\u001b[0m local name: mm9\n",
      "\u001b[32m13:49:21\u001b[0m \u001b[1m|\u001b[0m \u001b[34mINFO\u001b[0m \u001b[1m|\u001b[0m fasta: /home/bio/.local/share/genomes/mm9/mm9.fa\n"
     ]
    },
    {
     "data": {
      "application/vnd.jupyter.widget-view+json": {
       "model_id": "71544fad10504c788cfc8a65b6b70f7c",
       "version_major": 2,
       "version_minor": 0
      },
      "text/plain": [
       "Filtering Fasta: 0.00 lines [00:00, ? lines/s]"
      ]
     },
     "metadata": {},
     "output_type": "display_data"
    },
    {
     "name": "stdout",
     "output_type": "stream",
     "text": [
      "                     peak_id gene_short_name\n",
      "0  chr10_100050979_100052296   4930430F08Rik\n",
      "1  chr10_100203726_100204441         Gm35722\n",
      "2  chr10_100204553_100205270         Gm35722\n",
      "3  chr10_101144061_101145000          Mgat4c\n",
      "4  chr10_101621348_101622162          Mgat4c\n"
     ]
    }
   ],
   "source": [
    "tissue=\"Spleen\"\n",
    "sample_id=\"62016_P2\"\n",
    "\n",
    "# PLEASE make sure reference genome is correct.\n",
    "ref_genome = \"mm9\"\n",
    "\n",
    "genome_installation = ma.is_genome_installed(ref_genome=ref_genome)\n",
    "print(ref_genome, \"installation: \", genome_installation)\n",
    "print(ma.SUPPORTED_REF_GENOME)\n",
    "\n",
    "if not genome_installation:\n",
    "    import genomepy\n",
    "    genomepy.install_genome(name=ref_genome, provider=\"UCSC\")\n",
    "else:\n",
    "    print(ref_genome, \"is installed.\")\n",
    "\n",
    "\n",
    "# Load annotated peak data.\n",
    "peaks = pd.read_csv(\"~/Desktop/scATAC-seq/res_\" + tissue + \"_\" + sample_id + \"_processed_peak_file.csv\", index_col=0)\n",
    "print(peaks.head())\n"
   ]
  },
  {
   "cell_type": "code",
   "execution_count": 7,
   "id": "4893d18a-3bd4-47cd-8b63-7a655bd2da99",
   "metadata": {},
   "outputs": [],
   "source": [
    "def decompose_chrstr(peak_str):\n",
    "    \"\"\"\n",
    "    Args:\n",
    "        peak_str (str): peak_str. e.g. 'chr1_3094484_3095479'\n",
    "        \n",
    "    Returns:\n",
    "        tuple: chromosome name, start position, end position\n",
    "    \"\"\"\n",
    "    \n",
    "    *chr_, start, end = peak_str.split(\"_\")\n",
    "    chr_ = \"_\".join(chr_)\n",
    "    return chr_, start, end\n",
    "\n",
    "from genomepy import Genome\n",
    "\n",
    "def check_peak_format(peaks_df, ref_genome):\n",
    "    \"\"\"\n",
    "    Check peak format. \n",
    "     (1) Check chromosome name. \n",
    "     (2) Check peak size (length) and remove sort DNA sequences (<5bp)\n",
    "    \n",
    "    \"\"\"\n",
    "    \n",
    "    df = peaks_df.copy()\n",
    "    \n",
    "    n_peaks_before = df.shape[0]\n",
    "    \n",
    "    # Decompose peaks and make df\n",
    "    decomposed = [decompose_chrstr(peak_str) for peak_str in df[\"peak_id\"]]\n",
    "    df_decomposed = pd.DataFrame(np.array(decomposed), index=peaks_df.index)\n",
    "    df_decomposed.columns = [\"chr\", \"start\", \"end\"]\n",
    "    df_decomposed[\"start\"] = df_decomposed[\"start\"].astype(int)\n",
    "    df_decomposed[\"end\"] = df_decomposed[\"end\"].astype(int)\n",
    "    \n",
    "    # Load genome data\n",
    "    genome_data = Genome(ref_genome)\n",
    "    all_chr_list = list(genome_data.keys())\n",
    "    \n",
    "    \n",
    "    # DNA length check\n",
    "    lengths = np.abs(df_decomposed[\"end\"] - df_decomposed[\"start\"])\n",
    "    \n",
    "    \n",
    "    # Filter peaks with invalid chromosome name\n",
    "    n_threshold = 5\n",
    "    df = df[(lengths >= n_threshold) & df_decomposed.chr.isin(all_chr_list)]\n",
    "    \n",
    "    # DNA length check\n",
    "    lengths = np.abs(df_decomposed[\"end\"] - df_decomposed[\"start\"])\n",
    "    \n",
    "    # Data counting\n",
    "    n_invalid_length = len(lengths[lengths < n_threshold])\n",
    "    n_peaks_invalid_chr = n_peaks_before - df_decomposed.chr.isin(all_chr_list).sum()\n",
    "    n_peaks_after = df.shape[0]\n",
    "    \n",
    "    \n",
    "    #\n",
    "    print(\"Peaks before filtering: \", n_peaks_before)\n",
    "    print(\"Peaks with invalid chr_name: \", n_peaks_invalid_chr)\n",
    "    print(\"Peaks with invalid length: \", n_invalid_length)\n",
    "    print(\"Peaks after filtering: \", n_peaks_after)\n",
    "    \n",
    "    return df"
   ]
  },
  {
   "cell_type": "code",
   "execution_count": 8,
   "id": "b5a3e8f7-fd39-4c18-aa1a-a395b800039f",
   "metadata": {},
   "outputs": [
    {
     "name": "stdout",
     "output_type": "stream",
     "text": [
      "Peaks before filtering:  23739\n",
      "Peaks with invalid chr_name:  0\n",
      "Peaks with invalid length:  0\n",
      "Peaks after filtering:  23739\n",
      "                         peak_id gene_short_name\n",
      "0      chr10_100050979_100052296   4930430F08Rik\n",
      "1      chr10_100203726_100204441         Gm35722\n",
      "2      chr10_100204553_100205270         Gm35722\n",
      "3      chr10_101144061_101145000          Mgat4c\n",
      "4      chr10_101621348_101622162          Mgat4c\n",
      "...                          ...             ...\n",
      "23734     chrX_99839037_99840900           Phka1\n",
      "23735         chrY_345823_347369         Eif2s3y\n",
      "23736         chrY_581272_582790             Uty\n",
      "23737         chrY_621772_623366           Ddx3y\n",
      "23738         chrY_795887_796426           Usp9y\n",
      "\n",
      "[23739 rows x 2 columns]\n",
      "No motif data entered. Loading default motifs for your species ...\n",
      " Default motif for vertebrate: gimme.vertebrate.v5.0. \n",
      " For more information, please see https://gimmemotifs.readthedocs.io/en/master/overview.html \n",
      "\n",
      "Initiating scanner... \n",
      "\n"
     ]
    },
    {
     "name": "stderr",
     "output_type": "stream",
     "text": [
      "DEBUG:gimme.scanner:using background: genome mm9 with size 200\n"
     ]
    },
    {
     "name": "stdout",
     "output_type": "stream",
     "text": [
      "Calculating FPR-based threshold. This step may take substantial time when you load a new ref-genome. It will be done quicker on the second time. \n",
      "\n"
     ]
    },
    {
     "name": "stderr",
     "output_type": "stream",
     "text": [
      "2023-11-05 13:55:55,330 - INFO - determining FPR-based threshold\n",
      "INFO:gimme.scanner:determining FPR-based threshold\n"
     ]
    },
    {
     "name": "stdout",
     "output_type": "stream",
     "text": [
      "Motif scan started .. It may take long time.\n",
      "\n"
     ]
    },
    {
     "data": {
      "application/vnd.jupyter.widget-view+json": {
       "model_id": "8d33792f066d4f33b03f87eb6461a466",
       "version_major": 2,
       "version_minor": 0
      },
      "text/plain": [
       "scanning:   0%|          | 0/21840 [00:00<?, ? sequences/s]"
      ]
     },
     "metadata": {},
     "output_type": "display_data"
    },
    {
     "name": "stderr",
     "output_type": "stream",
     "text": [
      "DEBUG:gimme.scanner:Scanning\n"
     ]
    }
   ],
   "source": [
    "peaks = check_peak_format(peaks, ref_genome)\n",
    "print(peaks)\n",
    "\n",
    "# Instantiate TFinfo object\n",
    "tfi = ma.TFinfo(peak_data_frame=peaks, ref_genome=ref_genome) \n",
    "# print(tfi)\n",
    "\n",
    "##time\n",
    "# Scan motifs. !!CAUTION!! This step may take several hours if you have many peaks!\n",
    "# import faulthandler\n",
    "# faulthandler.enable()\n",
    "tfi.scan(fpr=0.02, motifs=None, verbose=True)"
   ]
  },
  {
   "cell_type": "code",
   "execution_count": 13,
   "id": "678678ee-307e-4951-9ad0-9170bd6bfd1e",
   "metadata": {},
   "outputs": [
    {
     "name": "stdout",
     "output_type": "stream",
     "text": [
      "                     seqname                 motif_id  \\\n",
      "0  chr10_100050979_100052296  GM.5.0.Homeodomain.0001   \n",
      "1  chr10_100050979_100052296        GM.5.0.Mixed.0002   \n",
      "2  chr10_100050979_100052296         GM.5.0.bHLH.0004   \n",
      "3  chr10_100050979_100052296   GM.5.0.Paired_box.0001   \n",
      "4  chr10_100050979_100052296          GM.5.0.Ets.0003   \n",
      "\n",
      "                                      factors_direct  \\\n",
      "0                                              TGIF1   \n",
      "1                                         PAX4, VSX2   \n",
      "2          USF1, TFE3, MITF, TFE, USF2, EBOX, SREBF1   \n",
      "3                                   PAX5, Pax8, Pax5   \n",
      "4  ERF, Elk4, Elk1, GABPA, FLI1, ELK3, ERG, Elk3,...   \n",
      "\n",
      "                                    factors_indirect      score  pos  strand  \n",
      "0                             ENSG00000234254, TGIF1  10.403033  327       1  \n",
      "1                             Pax4, PAX4, Lbx1, Vsx2  10.025440   41       1  \n",
      "2                                                      8.951626  493       1  \n",
      "3                       Pax8, Pax1, Pax5, PAX5, Pax9   7.836380  687      -1  \n",
      "4  Etv2, Elk3, ELK4, ELK1, ERF, FLI1, ELK3, ENSG0...   9.591994  911       1  \n",
      "Filtering finished: 14304189 -> 2878510\n",
      "1. Converting scanned results into one-hot encoded dataframe.\n"
     ]
    },
    {
     "data": {
      "application/vnd.jupyter.widget-view+json": {
       "model_id": "1b0f2aecc54d454b8dd9b2088ca84f98",
       "version_major": 2,
       "version_minor": 0
      },
      "text/plain": [
       "  0%|          | 0/21830 [00:00<?, ?it/s]"
      ]
     },
     "metadata": {},
     "output_type": "display_data"
    },
    {
     "name": "stdout",
     "output_type": "stream",
     "text": [
      "2. Converting results into dictionaries.\n"
     ]
    },
    {
     "data": {
      "application/vnd.jupyter.widget-view+json": {
       "model_id": "e10860c50e3245bfa0dd468e51e78d3b",
       "version_major": 2,
       "version_minor": 0
      },
      "text/plain": [
       "  0%|          | 0/18806 [00:00<?, ?it/s]"
      ]
     },
     "metadata": {},
     "output_type": "display_data"
    },
    {
     "data": {
      "application/vnd.jupyter.widget-view+json": {
       "model_id": "b66cf30d48074610b77804f7b1fe24b7",
       "version_major": 2,
       "version_minor": 0
      },
      "text/plain": [
       "  0%|          | 0/1095 [00:00<?, ?it/s]"
      ]
     },
     "metadata": {},
     "output_type": "display_data"
    },
    {
     "name": "stdout",
     "output_type": "stream",
     "text": [
      "                     peak_id gene_short_name  9430076c15rik  Ac002126.6  \\\n",
      "0  chr10_100050979_100052296   4930430F08Rik            0.0         0.0   \n",
      "1  chr10_100203726_100204441         Gm35722            0.0         0.0   \n",
      "2  chr10_100204553_100205270         Gm35722            0.0         0.0   \n",
      "3  chr10_101144061_101145000          Mgat4c            0.0         0.0   \n",
      "4  chr10_101621348_101622162          Mgat4c            1.0         0.0   \n",
      "\n",
      "   Ac012531.1  Ac226150.2  Afp  Ahctf1  Ahr  Ahrr  ...  Znf784  Znf8  Znf816  \\\n",
      "0         1.0         0.0  0.0     0.0  0.0   0.0  ...     0.0   0.0     0.0   \n",
      "1         0.0         0.0  0.0     0.0  0.0   0.0  ...     0.0   0.0     0.0   \n",
      "2         0.0         0.0  0.0     0.0  0.0   0.0  ...     0.0   0.0     0.0   \n",
      "3         0.0         0.0  0.0     0.0  0.0   0.0  ...     0.0   0.0     0.0   \n",
      "4         0.0         0.0  0.0     0.0  0.0   0.0  ...     0.0   0.0     0.0   \n",
      "\n",
      "   Znf85  Zscan10  Zscan16  Zscan22  Zscan26  Zscan31  Zscan4  \n",
      "0    0.0      0.0      0.0      0.0      0.0      0.0     0.0  \n",
      "1    0.0      0.0      0.0      0.0      0.0      0.0     0.0  \n",
      "2    0.0      0.0      0.0      0.0      0.0      0.0     0.0  \n",
      "3    0.0      0.0      0.0      0.0      0.0      0.0     1.0  \n",
      "4    0.0      0.0      0.0      0.0      0.0      0.0     0.0  \n",
      "\n",
      "[5 rows x 1097 columns]\n"
     ]
    }
   ],
   "source": [
    "# Save tfinfo object\n",
    "# tfi.to_hdf5(file_path=\"~/Desktop/scATAC-seq/res_\" + tissue + \"_\" + sample_id + \".celloracle.tfinfo\")\n",
    "\n",
    "# Check motif scan results\n",
    "print(tfi.scanned_df.head())\n",
    "\n",
    "# Reset filtering\n",
    "tfi.reset_filtering()\n",
    "\n",
    "# Do filtering\n",
    "tfi.filter_motifs_by_score(threshold=10)\n",
    "\n",
    "# Format post-filtering results.\n",
    "tfi.make_TFinfo_dataframe_and_dictionary(verbose=True)\n",
    "\n",
    "# Get final base GRN\n",
    "df = tfi.to_dataframe()\n",
    "print(df.head())\n",
    "\n",
    "# Save result as a dataframe\n",
    "df = tfi.to_dataframe()\n",
    "df.to_parquet(\"~/Desktop/scATAC-seq/res_\" + tissue + \"_\" + sample_id + \"_base_GRN_dataframe.parquet\")"
   ]
  }
 ],
 "metadata": {
  "kernelspec": {
   "display_name": "Python 3 (ipykernel)",
   "language": "python",
   "name": "python3"
  },
  "language_info": {
   "codemirror_mode": {
    "name": "ipython",
    "version": 3
   },
   "file_extension": ".py",
   "mimetype": "text/x-python",
   "name": "python",
   "nbconvert_exporter": "python",
   "pygments_lexer": "ipython3",
   "version": "3.10.12"
  }
 },
 "nbformat": 4,
 "nbformat_minor": 5
}
