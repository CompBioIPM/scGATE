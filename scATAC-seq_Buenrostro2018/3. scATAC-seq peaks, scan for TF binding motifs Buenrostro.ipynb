{
 "cells": [
  {
   "cell_type": "markdown",
   "id": "a96de85d-57ce-46d4-a8fc-0b69d3cf04cc",
   "metadata": {},
   "source": [
    "#### This section relies on the CellOracle package for scanning scATAC-seq peak calls (TSS annotated) for TF binding site motifs. For further information, please refer to the CellOracle documentation available at https://morris-lab.github.io/CellOracle.documentation/index.html."
   ]
  },
  {
   "cell_type": "markdown",
   "id": "8ab6c267-0f5c-420d-a33f-17d56a5ea90b",
   "metadata": {},
   "source": [
    "### Import library"
   ]
  },
  {
   "cell_type": "code",
   "execution_count": 2,
   "id": "de692cf8-2fc4-455e-b079-56ee939b2d18",
   "metadata": {},
   "outputs": [
    {
     "data": {
      "text/plain": [
       "'0.14.0'"
      ]
     },
     "execution_count": 2,
     "metadata": {},
     "output_type": "execute_result"
    }
   ],
   "source": [
    "import pandas as pd\n",
    "import numpy as np\n",
    "import matplotlib.pyplot as plt\n",
    "import seaborn as sns\n",
    "import os, sys, shutil, importlib, glob\n",
    "from tqdm.notebook import tqdm\n",
    "import celloracle as co\n",
    "from celloracle import motif_analysis as ma\n",
    "from celloracle.utility import save_as_pickled_object\n",
    "co.__version__"
   ]
  },
  {
   "cell_type": "code",
   "execution_count": 3,
   "id": "5e5a9c6d-78c1-4ddd-af6e-6a59e76b954a",
   "metadata": {},
   "outputs": [],
   "source": [
    "# config InlineBackend.figure_format = 'retina'\n",
    "# matplotlib inline\n",
    "\n",
    "plt.rcParams['figure.figsize'] = (15,7)\n",
    "plt.rcParams[\"savefig.dpi\"] = 600"
   ]
  },
  {
   "cell_type": "markdown",
   "id": "af2c34a2-e774-4782-92eb-ab9e7f00ddf1",
   "metadata": {},
   "source": [
    "### Load reference genome and data"
   ]
  },
  {
   "cell_type": "code",
   "execution_count": 4,
   "id": "2ef592cc-b295-4580-827d-9c734e79bc1b",
   "metadata": {},
   "outputs": [
    {
     "name": "stdout",
     "output_type": "stream",
     "text": [
      "genome hg19 is not installed in this environment.\n",
      "Please install genome using genomepy.\n",
      "e.g.\n",
      "    >>> import genomepy\n",
      "    >>> genomepy.install_genome(name=\"hg19\", provider=\"UCSC\")\n",
      "hg19 installation:  False\n",
      "               species            ref_genome           provider\n",
      "0                Human                  hg38               UCSC\n",
      "1                Human                  hg19               UCSC\n",
      "2                Mouse                  mm39               UCSC\n",
      "3                Mouse                  mm10               UCSC\n",
      "4                Mouse                   mm9               UCSC\n",
      "5         S.cerevisiae               sacCer2               UCSC\n",
      "6         S.cerevisiae               sacCer3               UCSC\n",
      "7            Zebrafish               danRer7               UCSC\n",
      "8            Zebrafish              danRer10               UCSC\n",
      "9            Zebrafish              danRer11               UCSC\n",
      "10  Xenopus tropicalis               xenTro2               UCSC\n",
      "11  Xenopus tropicalis               xenTro3               UCSC\n",
      "12      Xenopus laevis  Xenopus_laevis_v10.1               NCBI\n",
      "13                 Rat                   rn4               UCSC\n",
      "14                 Rat                   rn5               UCSC\n",
      "15                 Rat                   rn6               UCSC\n",
      "16          Drosophila                   dm3               UCSC\n",
      "17          Drosophila                   dm6               UCSC\n",
      "18           C.elegans                   ce6               UCSC\n",
      "19           C.elegans                  ce10               UCSC\n",
      "20         Arabidopsis                TAIR10            Ensembl\n",
      "21             Chicken               galGal4               UCSC\n",
      "22             Chicken               galGal5               UCSC\n",
      "23             Chicken               galGal6               UCSC\n",
      "24          Guinea_Pig             Cavpor3.0            Ensembl\n",
      "25                 Pig           Sscrofa11.1            Ensembl\n",
      "26             Axolotl         AmexG_v6.0-DD  Axolotl-omics.org\n"
     ]
    },
    {
     "name": "stderr",
     "output_type": "stream",
     "text": [
      "\u001b[32m15:13:43\u001b[0m \u001b[1m|\u001b[0m \u001b[34mINFO\u001b[0m \u001b[1m|\u001b[0m Downloading genome from UCSC. Target URL: https://hgdownload.soe.ucsc.edu/goldenPath/hg19/bigZips/chromFa.tar.gz...\n"
     ]
    },
    {
     "data": {
      "application/vnd.jupyter.widget-view+json": {
       "model_id": "55171617369e4965a07111e23e4f13d5",
       "version_major": 2,
       "version_minor": 0
      },
      "text/plain": [
       "Download:   0%|          | 0.00/905M [00:00<?, ?B/s]"
      ]
     },
     "metadata": {},
     "output_type": "display_data"
    },
    {
     "name": "stderr",
     "output_type": "stream",
     "text": [
      "\u001b[32m15:28:21\u001b[0m \u001b[1m|\u001b[0m \u001b[34mINFO\u001b[0m \u001b[1m|\u001b[0m Genome download successful, starting post processing...\n",
      "\u001b[32m15:29:49\u001b[0m \u001b[1m|\u001b[0m \u001b[34mINFO\u001b[0m \u001b[1m|\u001b[0m name: hg19\n",
      "\u001b[32m15:29:49\u001b[0m \u001b[1m|\u001b[0m \u001b[34mINFO\u001b[0m \u001b[1m|\u001b[0m local name: hg19\n",
      "\u001b[32m15:29:49\u001b[0m \u001b[1m|\u001b[0m \u001b[34mINFO\u001b[0m \u001b[1m|\u001b[0m fasta: /home/bio/.local/share/genomes/hg19/hg19.fa\n"
     ]
    },
    {
     "data": {
      "application/vnd.jupyter.widget-view+json": {
       "model_id": "caa0185adde742f589278b03f4cb46bd",
       "version_major": 2,
       "version_minor": 0
      },
      "text/plain": [
       "Filtering Fasta: 0.00 lines [00:00, ? lines/s]"
      ]
     },
     "metadata": {},
     "output_type": "display_data"
    },
    {
     "name": "stdout",
     "output_type": "stream",
     "text": [
      "                     peak_id gene_short_name\n",
      "0  chr10_100027770_100028555           LOXL4\n",
      "1  chr10_100174589_100175172         PYROXD2\n",
      "2  chr10_100175241_100175630         PYROXD2\n",
      "3  chr10_100205646_100207085            HPS1\n",
      "4  chr10_100205646_100207085    LOC101927278\n"
     ]
    }
   ],
   "source": [
    "# PLEASE make sure reference genome is correct.\n",
    "ref_genome = \"hg19\"\n",
    "\n",
    "genome_installation = ma.is_genome_installed(ref_genome=ref_genome)\n",
    "print(ref_genome, \"installation: \", genome_installation)\n",
    "print(ma.SUPPORTED_REF_GENOME)\n",
    "\n",
    "if not genome_installation:\n",
    "    import genomepy\n",
    "    genomepy.install_genome(name=ref_genome, provider=\"UCSC\")\n",
    "else:\n",
    "    print(ref_genome, \"is installed.\")\n",
    "\n",
    "\n",
    "# Load annotated peak data.\n",
    "peaks = pd.read_csv(\"~/Desktop/Buenrostro/res_Buenrostro2018_processed_peak_file.csv\", index_col=0)\n",
    "print(peaks.head())\n"
   ]
  },
  {
   "cell_type": "code",
   "execution_count": 5,
   "id": "4893d18a-3bd4-47cd-8b63-7a655bd2da99",
   "metadata": {},
   "outputs": [],
   "source": [
    "def decompose_chrstr(peak_str):\n",
    "    \"\"\"\n",
    "    Args:\n",
    "        peak_str (str): peak_str. e.g. 'chr1_3094484_3095479'\n",
    "        \n",
    "    Returns:\n",
    "        tuple: chromosome name, start position, end position\n",
    "    \"\"\"\n",
    "    \n",
    "    *chr_, start, end = peak_str.split(\"_\")\n",
    "    chr_ = \"_\".join(chr_)\n",
    "    return chr_, start, end\n",
    "\n",
    "from genomepy import Genome\n",
    "\n",
    "def check_peak_format(peaks_df, ref_genome):\n",
    "    \"\"\"\n",
    "    Check peak format. \n",
    "     (1) Check chromosome name. \n",
    "     (2) Check peak size (length) and remove sort DNA sequences (<5bp)\n",
    "    \n",
    "    \"\"\"\n",
    "    \n",
    "    df = peaks_df.copy()\n",
    "    \n",
    "    n_peaks_before = df.shape[0]\n",
    "    \n",
    "    # Decompose peaks and make df\n",
    "    decomposed = [decompose_chrstr(peak_str) for peak_str in df[\"peak_id\"]]\n",
    "    df_decomposed = pd.DataFrame(np.array(decomposed), index=peaks_df.index)\n",
    "    df_decomposed.columns = [\"chr\", \"start\", \"end\"]\n",
    "    df_decomposed[\"start\"] = df_decomposed[\"start\"].astype(int)\n",
    "    df_decomposed[\"end\"] = df_decomposed[\"end\"].astype(int)\n",
    "    \n",
    "    # Load genome data\n",
    "    genome_data = Genome(ref_genome)\n",
    "    all_chr_list = list(genome_data.keys())\n",
    "    \n",
    "    \n",
    "    # DNA length check\n",
    "    lengths = np.abs(df_decomposed[\"end\"] - df_decomposed[\"start\"])\n",
    "    \n",
    "    \n",
    "    # Filter peaks with invalid chromosome name\n",
    "    n_threshold = 5\n",
    "    df = df[(lengths >= n_threshold) & df_decomposed.chr.isin(all_chr_list)]\n",
    "    \n",
    "    # DNA length check\n",
    "    lengths = np.abs(df_decomposed[\"end\"] - df_decomposed[\"start\"])\n",
    "    \n",
    "    # Data counting\n",
    "    n_invalid_length = len(lengths[lengths < n_threshold])\n",
    "    n_peaks_invalid_chr = n_peaks_before - df_decomposed.chr.isin(all_chr_list).sum()\n",
    "    n_peaks_after = df.shape[0]\n",
    "    \n",
    "    \n",
    "    #\n",
    "    print(\"Peaks before filtering: \", n_peaks_before)\n",
    "    print(\"Peaks with invalid chr_name: \", n_peaks_invalid_chr)\n",
    "    print(\"Peaks with invalid length: \", n_invalid_length)\n",
    "    print(\"Peaks after filtering: \", n_peaks_after)\n",
    "    \n",
    "    return df"
   ]
  },
  {
   "cell_type": "code",
   "execution_count": 6,
   "id": "b5a3e8f7-fd39-4c18-aa1a-a395b800039f",
   "metadata": {},
   "outputs": [
    {
     "name": "stdout",
     "output_type": "stream",
     "text": [
      "Peaks before filtering:  21823\n",
      "Peaks with invalid chr_name:  0\n",
      "Peaks with invalid length:  0\n",
      "Peaks after filtering:  21823\n",
      "                         peak_id gene_short_name\n",
      "0      chr10_100027770_100028555           LOXL4\n",
      "1      chr10_100174589_100175172         PYROXD2\n",
      "2      chr10_100175241_100175630         PYROXD2\n",
      "3      chr10_100205646_100207085            HPS1\n",
      "4      chr10_100205646_100207085    LOC101927278\n",
      "...                          ...             ...\n",
      "21818       chrY_2802833_2804297             ZFY\n",
      "21819       chrY_2870572_2871816       LINC00278\n",
      "21820       chrY_4868210_4868444         PCDH11Y\n",
      "21821       chrY_6778489_6779751           TBL1Y\n",
      "21822       chrY_7141392_7142656            PRKY\n",
      "\n",
      "[21823 rows x 2 columns]\n",
      "No motif data entered. Loading default motifs for your species ...\n",
      " Default motif for vertebrate: gimme.vertebrate.v5.0. \n",
      " For more information, please see https://gimmemotifs.readthedocs.io/en/master/overview.html \n",
      "\n",
      "Initiating scanner... \n",
      "\n"
     ]
    },
    {
     "name": "stderr",
     "output_type": "stream",
     "text": [
      "DEBUG:gimme.scanner:using background: genome hg19 with size 200\n"
     ]
    },
    {
     "name": "stdout",
     "output_type": "stream",
     "text": [
      "Calculating FPR-based threshold. This step may take substantial time when you load a new ref-genome. It will be done quicker on the second time. \n",
      "\n"
     ]
    },
    {
     "name": "stderr",
     "output_type": "stream",
     "text": [
      "2023-11-07 15:35:22,777 - INFO - determining FPR-based threshold\n",
      "INFO:gimme.scanner:determining FPR-based threshold\n"
     ]
    },
    {
     "name": "stdout",
     "output_type": "stream",
     "text": [
      "Motif scan started .. It may take long time.\n",
      "\n"
     ]
    },
    {
     "data": {
      "application/vnd.jupyter.widget-view+json": {
       "model_id": "1f6e5b8db7b345e6b5a8472424855c46",
       "version_major": 2,
       "version_minor": 0
      },
      "text/plain": [
       "scanning:   0%|          | 0/19766 [00:00<?, ? sequences/s]"
      ]
     },
     "metadata": {},
     "output_type": "display_data"
    },
    {
     "name": "stderr",
     "output_type": "stream",
     "text": [
      "DEBUG:gimme.scanner:Scanning\n"
     ]
    }
   ],
   "source": [
    "peaks = check_peak_format(peaks, ref_genome)\n",
    "print(peaks)\n",
    "\n",
    "# Instantiate TFinfo object\n",
    "tfi = ma.TFinfo(peak_data_frame=peaks, ref_genome=ref_genome) \n",
    "# print(tfi)\n",
    "\n",
    "##time\n",
    "# Scan motifs. !!CAUTION!! This step may take several hours if you have many peaks!\n",
    "# import faulthandler\n",
    "# faulthandler.enable()\n",
    "tfi.scan(fpr=0.02, motifs=None, verbose=True)"
   ]
  },
  {
   "cell_type": "code",
   "execution_count": 7,
   "id": "678678ee-307e-4951-9ad0-9170bd6bfd1e",
   "metadata": {},
   "outputs": [
    {
     "name": "stdout",
     "output_type": "stream",
     "text": [
      "                     seqname           motif_id factors_direct  \\\n",
      "0  chr10_100027770_100028555  GM.5.0.Mixed.0001                  \n",
      "1  chr10_100027770_100028555  GM.5.0.Mixed.0001                  \n",
      "2  chr10_100027770_100028555  GM.5.0.Mixed.0001                  \n",
      "3  chr10_100027770_100028555  GM.5.0.Mixed.0001                  \n",
      "4  chr10_100027770_100028555  GM.5.0.Mixed.0001                  \n",
      "\n",
      "  factors_indirect     score  pos  strand  \n",
      "0        EGR1, SRF  8.468539  391       1  \n",
      "1        EGR1, SRF  8.255221  392       1  \n",
      "2        EGR1, SRF  8.009193  407       1  \n",
      "3        EGR1, SRF  7.870592  373       1  \n",
      "4        EGR1, SRF  7.684773  266      -1  \n",
      "Filtering finished: 11398604 -> 2197747\n",
      "1. Converting scanned results into one-hot encoded dataframe.\n"
     ]
    },
    {
     "data": {
      "application/vnd.jupyter.widget-view+json": {
       "model_id": "0dcc52e41385456fb70cbc65d6ef62b3",
       "version_major": 2,
       "version_minor": 0
      },
      "text/plain": [
       "  0%|          | 0/19756 [00:00<?, ?it/s]"
      ]
     },
     "metadata": {},
     "output_type": "display_data"
    },
    {
     "name": "stdout",
     "output_type": "stream",
     "text": [
      "2. Converting results into dictionaries.\n"
     ]
    },
    {
     "data": {
      "application/vnd.jupyter.widget-view+json": {
       "model_id": "c3c6c44186b5414384e5c11d795dbb0a",
       "version_major": 2,
       "version_minor": 0
      },
      "text/plain": [
       "  0%|          | 0/17907 [00:00<?, ?it/s]"
      ]
     },
     "metadata": {},
     "output_type": "display_data"
    },
    {
     "data": {
      "application/vnd.jupyter.widget-view+json": {
       "model_id": "8e6d1704d65a4d7389ca1e549b171bd8",
       "version_major": 2,
       "version_minor": 0
      },
      "text/plain": [
       "  0%|          | 0/1095 [00:00<?, ?it/s]"
      ]
     },
     "metadata": {},
     "output_type": "display_data"
    },
    {
     "name": "stdout",
     "output_type": "stream",
     "text": [
      "                     peak_id gene_short_name  9430076C15RIK  AC002126.6  \\\n",
      "0  chr10_100027770_100028555           LOXL4            0.0         0.0   \n",
      "1  chr10_100174589_100175172         PYROXD2            0.0         0.0   \n",
      "2  chr10_100175241_100175630         PYROXD2            0.0         0.0   \n",
      "3  chr10_100205646_100207085            HPS1            0.0         0.0   \n",
      "4  chr10_100205646_100207085    LOC101927278            0.0         0.0   \n",
      "\n",
      "   AC012531.1  AC226150.2  AFP  AHR  AHRR  AIRE  ...  ZNF784  ZNF8  ZNF816  \\\n",
      "0         0.0         0.0  0.0  0.0   0.0   0.0  ...     0.0   0.0     0.0   \n",
      "1         0.0         0.0  0.0  0.0   0.0   0.0  ...     0.0   0.0     0.0   \n",
      "2         0.0         0.0  0.0  0.0   0.0   0.0  ...     0.0   0.0     0.0   \n",
      "3         0.0         0.0  0.0  0.0   0.0   0.0  ...     0.0   0.0     0.0   \n",
      "4         0.0         0.0  0.0  0.0   0.0   0.0  ...     0.0   0.0     0.0   \n",
      "\n",
      "   ZNF85  ZSCAN10  ZSCAN16  ZSCAN22  ZSCAN26  ZSCAN31  ZSCAN4  \n",
      "0    0.0      0.0      0.0      0.0      0.0      0.0     0.0  \n",
      "1    0.0      0.0      0.0      0.0      0.0      0.0     0.0  \n",
      "2    0.0      0.0      0.0      0.0      0.0      0.0     0.0  \n",
      "3    0.0      0.0      0.0      0.0      0.0      0.0     0.0  \n",
      "4    0.0      0.0      0.0      0.0      0.0      0.0     0.0  \n",
      "\n",
      "[5 rows x 1097 columns]\n"
     ]
    }
   ],
   "source": [
    "# Check motif scan results\n",
    "print(tfi.scanned_df.head())\n",
    "\n",
    "# Reset filtering\n",
    "tfi.reset_filtering()\n",
    "\n",
    "# Do filtering\n",
    "tfi.filter_motifs_by_score(threshold=10)\n",
    "\n",
    "# Format post-filtering results.\n",
    "tfi.make_TFinfo_dataframe_and_dictionary(verbose=True)\n",
    "\n",
    "# Get final base GRN\n",
    "df = tfi.to_dataframe()\n",
    "print(df.head())\n",
    "\n",
    "# Save result as a dataframe\n",
    "df = tfi.to_dataframe()\n",
    "df.to_parquet(\"~/Desktop/Buenrostro/res_Buenrostro2018_base_GRN_dataframe.parquet\")"
   ]
  },
  {
   "cell_type": "code",
   "execution_count": null,
   "id": "fc28f427-611c-46c5-bee8-376795069383",
   "metadata": {},
   "outputs": [],
   "source": []
  }
 ],
 "metadata": {
  "kernelspec": {
   "display_name": "Python 3 (ipykernel)",
   "language": "python",
   "name": "python3"
  },
  "language_info": {
   "codemirror_mode": {
    "name": "ipython",
    "version": 3
   },
   "file_extension": ".py",
   "mimetype": "text/x-python",
   "name": "python",
   "nbconvert_exporter": "python",
   "pygments_lexer": "ipython3",
   "version": "3.10.12"
  }
 },
 "nbformat": 4,
 "nbformat_minor": 5
}
