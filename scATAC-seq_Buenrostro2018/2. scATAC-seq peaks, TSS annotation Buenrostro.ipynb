{
 "cells": [
  {
   "cell_type": "markdown",
   "id": "ff303fd4-d24c-4182-a670-73e7ff20d606",
   "metadata": {},
   "source": [
    "#### This section relies on the CellOracle package for annotating scATAC-seq peak calls with Transcription Start Site (TSS) information and the gene names associated with the TSS sites. For further information, please refer to the CellOracle documentation available at https://morris-lab.github.io/CellOracle.documentation/index.html."
   ]
  },
  {
   "cell_type": "markdown",
   "id": "1f89a53e-11ed-42c7-a34d-8a515fcd785c",
   "metadata": {},
   "source": [
    "### Import library"
   ]
  },
  {
   "cell_type": "code",
   "execution_count": 2,
   "id": "270f19f0-8d37-4bf5-92a6-b82d40bbfa3a",
   "metadata": {},
   "outputs": [],
   "source": [
    "import pandas as pd\n",
    "import numpy as np\n",
    "import matplotlib.pyplot as plt\n",
    "import seaborn as sns\n",
    "import os, sys, shutil, importlib, glob\n",
    "from tqdm.notebook import tqdm\n",
    "from celloracle import motif_analysis as ma\n",
    "import celloracle as co\n",
    "co.__version__\n",
    "\n",
    "import warnings\n",
    "import numba\n",
    "# Code that triggers the warning\n",
    "\n",
    "with warnings.catch_warnings():\n",
    "    warnings.simplefilter(\"ignore\", category=numba.NumbaDeprecationWarning)"
   ]
  },
  {
   "cell_type": "code",
   "execution_count": 3,
   "id": "7564cac7-0acc-4dc6-9dc1-1774ff4efd8b",
   "metadata": {},
   "outputs": [],
   "source": [
    "# config InlineBackend.figure_format = 'retina'\n",
    "\n",
    "plt.rcParams['figure.figsize'] = [6, 4.5]\n",
    "plt.rcParams[\"savefig.dpi\"] = 300"
   ]
  },
  {
   "cell_type": "markdown",
   "id": "fe6bf1fd-be93-4d2a-b1d8-9121f4e4ebe9",
   "metadata": {},
   "source": [
    "### Load data"
   ]
  },
  {
   "cell_type": "code",
   "execution_count": 4,
   "id": "07be55f4-2f17-4c4a-af03-ca53048e364a",
   "metadata": {},
   "outputs": [
    {
     "name": "stdout",
     "output_type": "stream",
     "text": [
      "['chr1_10413_10625' 'chr1_13380_13624' 'chr1_16145_16354' ...\n",
      " 'chrY_59004165_59004411' 'chrY_59013930_59014161'\n",
      " 'chrY_59363205_59363360']\n"
     ]
    }
   ],
   "source": [
    "# Load scATAC-seq peak list.\n",
    "peaks = pd.read_csv(\"~/Desktop/Buenrostro/res_Buenrostro2018_all_peaks.csv\", index_col=0)\n",
    "peaks = peaks.x.values\n",
    "print(peaks)"
   ]
  },
  {
   "cell_type": "code",
   "execution_count": 5,
   "id": "11f34710-0f5c-4c1e-ae36-682db6a31361",
   "metadata": {},
   "outputs": [
    {
     "name": "stdout",
     "output_type": "stream",
     "text": [
      "                       Peak1                    Peak2  coaccess\n",
      "1  chr10_100019639_100020050  chr10_99769506_99769797  0.000000\n",
      "2  chr10_100019639_100020050  chr10_99787890_99788254  0.002895\n",
      "3  chr10_100019639_100020050  chr10_99790129_99790934 -0.022282\n",
      "4  chr10_100019639_100020050  chr10_99790943_99791257 -0.003558\n",
      "5  chr10_100019639_100020050  chr10_99801285_99801535  0.002933\n"
     ]
    }
   ],
   "source": [
    "# Load Cicero coaccessibility scores.\n",
    "cicero_connections = pd.read_csv(\"~/Desktop/Buenrostro/res_Buenrostro2018_cicero_connections.csv\", index_col=0)\n",
    "print(cicero_connections.head())"
   ]
  },
  {
   "cell_type": "markdown",
   "id": "288c0da5-9403-4295-80ba-269da4b16ea1",
   "metadata": {},
   "source": [
    "### TSS annotation"
   ]
  },
  {
   "cell_type": "code",
   "execution_count": 6,
   "id": "e25dcee8-19ac-48c3-9d54-bd6512b458ca",
   "metadata": {},
   "outputs": [
    {
     "data": {
      "text/html": [
       "<div>\n",
       "<style scoped>\n",
       "    .dataframe tbody tr th:only-of-type {\n",
       "        vertical-align: middle;\n",
       "    }\n",
       "\n",
       "    .dataframe tbody tr th {\n",
       "        vertical-align: top;\n",
       "    }\n",
       "\n",
       "    .dataframe thead th {\n",
       "        text-align: right;\n",
       "    }\n",
       "</style>\n",
       "<table border=\"1\" class=\"dataframe\">\n",
       "  <thead>\n",
       "    <tr style=\"text-align: right;\">\n",
       "      <th></th>\n",
       "      <th>species</th>\n",
       "      <th>ref_genome</th>\n",
       "      <th>provider</th>\n",
       "    </tr>\n",
       "  </thead>\n",
       "  <tbody>\n",
       "    <tr>\n",
       "      <th>0</th>\n",
       "      <td>Human</td>\n",
       "      <td>hg38</td>\n",
       "      <td>UCSC</td>\n",
       "    </tr>\n",
       "    <tr>\n",
       "      <th>1</th>\n",
       "      <td>Human</td>\n",
       "      <td>hg19</td>\n",
       "      <td>UCSC</td>\n",
       "    </tr>\n",
       "    <tr>\n",
       "      <th>2</th>\n",
       "      <td>Mouse</td>\n",
       "      <td>mm39</td>\n",
       "      <td>UCSC</td>\n",
       "    </tr>\n",
       "    <tr>\n",
       "      <th>3</th>\n",
       "      <td>Mouse</td>\n",
       "      <td>mm10</td>\n",
       "      <td>UCSC</td>\n",
       "    </tr>\n",
       "    <tr>\n",
       "      <th>4</th>\n",
       "      <td>Mouse</td>\n",
       "      <td>mm9</td>\n",
       "      <td>UCSC</td>\n",
       "    </tr>\n",
       "    <tr>\n",
       "      <th>5</th>\n",
       "      <td>S.cerevisiae</td>\n",
       "      <td>sacCer2</td>\n",
       "      <td>UCSC</td>\n",
       "    </tr>\n",
       "    <tr>\n",
       "      <th>6</th>\n",
       "      <td>S.cerevisiae</td>\n",
       "      <td>sacCer3</td>\n",
       "      <td>UCSC</td>\n",
       "    </tr>\n",
       "    <tr>\n",
       "      <th>7</th>\n",
       "      <td>Zebrafish</td>\n",
       "      <td>danRer7</td>\n",
       "      <td>UCSC</td>\n",
       "    </tr>\n",
       "    <tr>\n",
       "      <th>8</th>\n",
       "      <td>Zebrafish</td>\n",
       "      <td>danRer10</td>\n",
       "      <td>UCSC</td>\n",
       "    </tr>\n",
       "    <tr>\n",
       "      <th>9</th>\n",
       "      <td>Zebrafish</td>\n",
       "      <td>danRer11</td>\n",
       "      <td>UCSC</td>\n",
       "    </tr>\n",
       "    <tr>\n",
       "      <th>10</th>\n",
       "      <td>Xenopus tropicalis</td>\n",
       "      <td>xenTro2</td>\n",
       "      <td>UCSC</td>\n",
       "    </tr>\n",
       "    <tr>\n",
       "      <th>11</th>\n",
       "      <td>Xenopus tropicalis</td>\n",
       "      <td>xenTro3</td>\n",
       "      <td>UCSC</td>\n",
       "    </tr>\n",
       "    <tr>\n",
       "      <th>12</th>\n",
       "      <td>Xenopus laevis</td>\n",
       "      <td>Xenopus_laevis_v10.1</td>\n",
       "      <td>NCBI</td>\n",
       "    </tr>\n",
       "    <tr>\n",
       "      <th>13</th>\n",
       "      <td>Rat</td>\n",
       "      <td>rn4</td>\n",
       "      <td>UCSC</td>\n",
       "    </tr>\n",
       "    <tr>\n",
       "      <th>14</th>\n",
       "      <td>Rat</td>\n",
       "      <td>rn5</td>\n",
       "      <td>UCSC</td>\n",
       "    </tr>\n",
       "    <tr>\n",
       "      <th>15</th>\n",
       "      <td>Rat</td>\n",
       "      <td>rn6</td>\n",
       "      <td>UCSC</td>\n",
       "    </tr>\n",
       "    <tr>\n",
       "      <th>16</th>\n",
       "      <td>Drosophila</td>\n",
       "      <td>dm3</td>\n",
       "      <td>UCSC</td>\n",
       "    </tr>\n",
       "    <tr>\n",
       "      <th>17</th>\n",
       "      <td>Drosophila</td>\n",
       "      <td>dm6</td>\n",
       "      <td>UCSC</td>\n",
       "    </tr>\n",
       "    <tr>\n",
       "      <th>18</th>\n",
       "      <td>C.elegans</td>\n",
       "      <td>ce6</td>\n",
       "      <td>UCSC</td>\n",
       "    </tr>\n",
       "    <tr>\n",
       "      <th>19</th>\n",
       "      <td>C.elegans</td>\n",
       "      <td>ce10</td>\n",
       "      <td>UCSC</td>\n",
       "    </tr>\n",
       "    <tr>\n",
       "      <th>20</th>\n",
       "      <td>Arabidopsis</td>\n",
       "      <td>TAIR10</td>\n",
       "      <td>Ensembl</td>\n",
       "    </tr>\n",
       "    <tr>\n",
       "      <th>21</th>\n",
       "      <td>Chicken</td>\n",
       "      <td>galGal4</td>\n",
       "      <td>UCSC</td>\n",
       "    </tr>\n",
       "    <tr>\n",
       "      <th>22</th>\n",
       "      <td>Chicken</td>\n",
       "      <td>galGal5</td>\n",
       "      <td>UCSC</td>\n",
       "    </tr>\n",
       "    <tr>\n",
       "      <th>23</th>\n",
       "      <td>Chicken</td>\n",
       "      <td>galGal6</td>\n",
       "      <td>UCSC</td>\n",
       "    </tr>\n",
       "    <tr>\n",
       "      <th>24</th>\n",
       "      <td>Guinea_Pig</td>\n",
       "      <td>Cavpor3.0</td>\n",
       "      <td>Ensembl</td>\n",
       "    </tr>\n",
       "    <tr>\n",
       "      <th>25</th>\n",
       "      <td>Pig</td>\n",
       "      <td>Sscrofa11.1</td>\n",
       "      <td>Ensembl</td>\n",
       "    </tr>\n",
       "    <tr>\n",
       "      <th>26</th>\n",
       "      <td>Axolotl</td>\n",
       "      <td>AmexG_v6.0-DD</td>\n",
       "      <td>Axolotl-omics.org</td>\n",
       "    </tr>\n",
       "  </tbody>\n",
       "</table>\n",
       "</div>"
      ],
      "text/plain": [
       "               species            ref_genome           provider\n",
       "0                Human                  hg38               UCSC\n",
       "1                Human                  hg19               UCSC\n",
       "2                Mouse                  mm39               UCSC\n",
       "3                Mouse                  mm10               UCSC\n",
       "4                Mouse                   mm9               UCSC\n",
       "5         S.cerevisiae               sacCer2               UCSC\n",
       "6         S.cerevisiae               sacCer3               UCSC\n",
       "7            Zebrafish               danRer7               UCSC\n",
       "8            Zebrafish              danRer10               UCSC\n",
       "9            Zebrafish              danRer11               UCSC\n",
       "10  Xenopus tropicalis               xenTro2               UCSC\n",
       "11  Xenopus tropicalis               xenTro3               UCSC\n",
       "12      Xenopus laevis  Xenopus_laevis_v10.1               NCBI\n",
       "13                 Rat                   rn4               UCSC\n",
       "14                 Rat                   rn5               UCSC\n",
       "15                 Rat                   rn6               UCSC\n",
       "16          Drosophila                   dm3               UCSC\n",
       "17          Drosophila                   dm6               UCSC\n",
       "18           C.elegans                   ce6               UCSC\n",
       "19           C.elegans                  ce10               UCSC\n",
       "20         Arabidopsis                TAIR10            Ensembl\n",
       "21             Chicken               galGal4               UCSC\n",
       "22             Chicken               galGal5               UCSC\n",
       "23             Chicken               galGal6               UCSC\n",
       "24          Guinea_Pig             Cavpor3.0            Ensembl\n",
       "25                 Pig           Sscrofa11.1            Ensembl\n",
       "26             Axolotl         AmexG_v6.0-DD  Axolotl-omics.org"
      ]
     },
     "execution_count": 6,
     "metadata": {},
     "output_type": "execute_result"
    }
   ],
   "source": [
    "ma.SUPPORTED_REF_GENOME"
   ]
  },
  {
   "cell_type": "code",
   "execution_count": 7,
   "id": "57ad1dc6-51c5-454d-8a48-a833b2e64bc9",
   "metadata": {},
   "outputs": [
    {
     "name": "stdout",
     "output_type": "stream",
     "text": [
      "que bed peaks: 237450\n",
      "tss peaks in que: 23840\n",
      "         chr      start        end gene_short_name strand\n",
      "23835  chr12   14720257   14720938           PLBD1      -\n",
      "23836   chr4  156679570  156680679         GUCY1B1      +\n",
      "23837   chrX  132549016  132549203            GPC4      -\n",
      "23838   chrX  132549265  132550038            GPC4      -\n",
      "23839   chr7  112727703  112728111           GPR85      -\n"
     ]
    }
   ],
   "source": [
    "##!! Please make sure to specify the correct reference genome here\n",
    "tss_annotated = ma.get_tss_info(peak_str_list=peaks, ref_genome=\"hg19\") \n",
    "\n",
    "# Check results\n",
    "print(tss_annotated.tail())"
   ]
  },
  {
   "cell_type": "markdown",
   "id": "c36be100-f9ec-4b5b-a3e5-d6f5991c1dbf",
   "metadata": {},
   "source": [
    "### Integrate TSS info and cicero connections"
   ]
  },
  {
   "cell_type": "code",
   "execution_count": 8,
   "id": "0bf7a954-5c21-45e6-9af3-c145525f313f",
   "metadata": {},
   "outputs": [
    {
     "name": "stdout",
     "output_type": "stream",
     "text": [
      "(771702, 3)\n",
      "                     peak_id gene_short_name  coaccess\n",
      "0  chr10_100019639_100020050         PYROXD2  0.003578\n",
      "1  chr10_100022300_100022741           LOXL4  0.130933\n",
      "2  chr10_100022300_100022741         PYROXD2  0.018459\n",
      "3  chr10_100027770_100028555          CRTAC1  0.051738\n",
      "4  chr10_100027770_100028555            HPS1  0.020793\n"
     ]
    }
   ],
   "source": [
    "# The resulting file obtained from the integration process consists of three columns: [\"peak_id\", \"gene_short_name\", \"coaccess\"].\n",
    "# The \"peak_id\" column represents either the TSS peak or the peaks that are connected to a TSS peak.\n",
    "# The \"gene_short_name\" column contains the gene name associated with the TSS site.\n",
    "# The \"coaccess\" column indicates the coaccessibility score between the peak and a TSS peak. A score of 1 signifies that the peak itself is a TSS.\n",
    "\n",
    "integrated = ma.integrate_tss_peak_with_cicero(tss_peak=tss_annotated, cicero_connections=cicero_connections)\n",
    "print(integrated.shape)\n",
    "print(integrated.head())"
   ]
  },
  {
   "cell_type": "markdown",
   "id": "b2bc0638-6827-4047-b7ab-1f86bd957b32",
   "metadata": {},
   "source": [
    "### Filter out peaks with low coaccessibility scores"
   ]
  },
  {
   "cell_type": "code",
   "execution_count": 9,
   "id": "bdc33df4-f807-4799-92b6-64c678756bc4",
   "metadata": {},
   "outputs": [
    {
     "name": "stdout",
     "output_type": "stream",
     "text": [
      "(21823, 2)\n",
      "                     peak_id gene_short_name\n",
      "0  chr10_100027770_100028555           LOXL4\n",
      "1  chr10_100174589_100175172         PYROXD2\n",
      "2  chr10_100175241_100175630         PYROXD2\n",
      "3  chr10_100205646_100207085            HPS1\n",
      "4  chr10_100205646_100207085    LOC101927278\n"
     ]
    }
   ],
   "source": [
    "peak = integrated[integrated.coaccess >= 0.8]\n",
    "peak = peak[[\"peak_id\", \"gene_short_name\"]].reset_index(drop=True)\n",
    "print(peak.shape)\n",
    "print(peak.head())\n",
    "\n",
    "peak.to_csv(\"~/Desktop/Buenrostro/res_Buenrostro2018_processed_peak_file.csv\")"
   ]
  },
  {
   "cell_type": "code",
   "execution_count": null,
   "id": "a50262a5-f1f4-4cc1-979f-cd819c58fcc0",
   "metadata": {},
   "outputs": [],
   "source": []
  }
 ],
 "metadata": {
  "kernelspec": {
   "display_name": "Python 3 (ipykernel)",
   "language": "python",
   "name": "python3"
  },
  "language_info": {
   "codemirror_mode": {
    "name": "ipython",
    "version": 3
   },
   "file_extension": ".py",
   "mimetype": "text/x-python",
   "name": "python",
   "nbconvert_exporter": "python",
   "pygments_lexer": "ipython3",
   "version": "3.10.12"
  }
 },
 "nbformat": 4,
 "nbformat_minor": 5
}
